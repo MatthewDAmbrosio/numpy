{
 "cells": [
  {
   "cell_type": "code",
   "execution_count": 3,
   "metadata": {},
   "outputs": [
    {
     "data": {
      "text/plain": [
       "4.571553663486116"
      ]
     },
     "execution_count": 3,
     "metadata": {},
     "output_type": "execute_result"
    }
   ],
   "source": [
    "import numpy as np\n",
    "\n",
    "ten = np.zeros((9,9))\n",
    "\n",
    "for i in range(0,9):\n",
    "    for j in range(0,9):\n",
    "        ten[i][j] = np.random.random_sample()*10\n",
    "        \n",
    "np.mean(ten)"
   ]
  },
  {
   "cell_type": "code",
   "execution_count": 227,
   "metadata": {},
   "outputs": [
    {
     "data": {
      "text/plain": [
       "array([[1, 2],\n",
       "       [3, 4]])"
      ]
     },
     "execution_count": 227,
     "metadata": {},
     "output_type": "execute_result"
    }
   ],
   "source": [
    "a = np.vstack([[1,2],[3,4]])\n",
    "a"
   ]
  },
  {
   "cell_type": "code",
   "execution_count": 263,
   "metadata": {},
   "outputs": [
    {
     "name": "stdout",
     "output_type": "stream",
     "text": [
      "[1 1 1 1 1 1 1 1 1 1]\n",
      "[1 0 0 0 0 0 0 0 0 1]\n",
      "[1 0 0 0 0 0 0 0 0 1]\n",
      "[1 0 0 0 0 0 0 0 0 1]\n",
      "[1 0 0 0 0 0 0 0 0 1]\n",
      "[1 0 0 0 0 0 0 0 0 1]\n",
      "[1 0 0 0 0 0 0 0 0 1]\n",
      "[1 0 0 0 0 0 0 0 0 1]\n",
      "[1 0 0 0 0 0 0 0 0 1]\n",
      "[1 0 0 0 0 0 0 0 0 1]\n",
      "[1 0 0 0 0 0 0 0 0 1]\n",
      "[1 0 0 0 0 0 0 0 0 1]\n",
      "[1 0 0 0 0 0 0 0 0 1]\n",
      "[1 0 0 0 0 0 0 0 0 1]\n",
      "[1 0 0 0 0 0 0 0 0 1]\n",
      "[1 0 0 0 0 0 0 0 0 1]\n",
      "[1 0 0 0 0 0 0 0 0 1]\n",
      "[1 0 0 0 0 0 0 0 0 1]\n",
      "[1 0 0 0 0 0 0 0 0 1]\n",
      "[1 1 1 1 1 1 1 1 1 1]\n"
     ]
    }
   ],
   "source": [
    "def box(x,y):\n",
    "    top = np.array([1]*x)\n",
    "    middle = np.array([1]+[0]*(x-2)+[1])\n",
    "    bottom = np.array([1]*x)\n",
    "    #return np.stack((top,middle,bottom))\n",
    "    print(top)\n",
    "    for i in range(0,y-2):\n",
    "        print(middle)\n",
    "    print(bottom)\n",
    "    \n",
    "    \n",
    "box(10,20)"
   ]
  },
  {
   "cell_type": "code",
   "execution_count": 12,
   "metadata": {},
   "outputs": [
    {
     "name": "stdout",
     "output_type": "stream",
     "text": [
      "[ 0.          0.65028784 -0.98803162  0.85090352 -0.30481062 -0.38778164\n",
      "  0.89399666]\n",
      "[ 1.         -0.75968791  0.15425145  0.52532199 -0.95241298  0.92175127\n",
      " -0.44807362]\n",
      "[ 0.         -0.8559934  -6.4053312   1.61977519  0.32004039 -0.42070095\n",
      " -1.99520041]\n",
      "[ 0.         -0.65028784  0.98803162 -0.85090352  0.30481062  0.38778164\n",
      " -0.89399666]\n",
      "[ 1.         -0.75968791  0.15425145  0.52532199 -0.95241298  0.92175127\n",
      " -0.44807362]\n",
      "[ 0.          0.8559934   6.4053312  -1.61977519 -0.32004039  0.42070095\n",
      "  1.99520041]\n"
     ]
    }
   ],
   "source": [
    "angle = np.array([0,15,30,45,60,75,90])\n",
    "print(np.sin(angle))\n",
    "print(np.cos(angle))\n",
    "print(np.tan(angle))\n",
    "\n",
    "print(np.sin(-angle))\n",
    "print(np.cos(-angle))\n",
    "print(np.tan(-angle))"
   ]
  },
  {
   "cell_type": "code",
   "execution_count": 16,
   "metadata": {
    "scrolled": true
   },
   "outputs": [
    {
     "name": "stdout",
     "output_type": "stream",
     "text": [
      "2\n",
      "-3\n",
      "-3\n",
      "-3\n",
      "4\n",
      "-6\n",
      "-2\n",
      "9\n"
     ]
    }
   ],
   "source": [
    "x = np.array([1, -1, 2, 5, 8, 4, 10, 12, 3])\n",
    "for i in range(len(x)-1):\n",
    "    print(x[i]-x[i+1])"
   ]
  },
  {
   "cell_type": "code",
   "execution_count": 25,
   "metadata": {},
   "outputs": [
    {
     "name": "stdout",
     "output_type": "stream",
     "text": [
      "4.5\n",
      "30.25\n"
     ]
    }
   ],
   "source": [
    "text = np.loadtxt('num.txt')\n",
    "hist = np.histogram(x)\n",
    "for i in range(len(hist)):\n",
    "    print(sum(hist[i])/len(hist))"
   ]
  },
  {
   "cell_type": "code",
   "execution_count": 117,
   "metadata": {},
   "outputs": [
    {
     "name": "stdout",
     "output_type": "stream",
     "text": [
      "32.93933818400121\n"
     ]
    }
   ],
   "source": [
    "x = np.array([1, 2, 3, 40])\n",
    "\n",
    "def sd(a):\n",
    "    ave = np.mean(a)\n",
    "    add = []\n",
    "    for i in range(len(a)):\n",
    "        add.append((a[i]-ave)**2)\n",
    "    \n",
    "    total  = np.sum(add)\n",
    "        \n",
    "    print(np.sqrt(total))\n",
    "    \n",
    "sd(x)"
   ]
  }
 ],
 "metadata": {
  "kernelspec": {
   "display_name": "Python 3",
   "language": "python",
   "name": "python3"
  },
  "language_info": {
   "codemirror_mode": {
    "name": "ipython",
    "version": 3
   },
   "file_extension": ".py",
   "mimetype": "text/x-python",
   "name": "python",
   "nbconvert_exporter": "python",
   "pygments_lexer": "ipython3",
   "version": "3.7.2"
  }
 },
 "nbformat": 4,
 "nbformat_minor": 2
}
